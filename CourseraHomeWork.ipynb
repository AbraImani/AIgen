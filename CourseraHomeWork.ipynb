{
  "metadata": {
    "kernelspec": {
      "name": "python",
      "display_name": "Python (Pyodide)",
      "language": "python"
    },
    "language_info": {
      "codemirror_mode": {
        "name": "python",
        "version": 3
      },
      "file_extension": ".py",
      "mimetype": "text/x-python",
      "name": "python",
      "nbconvert_exporter": "python",
      "pygments_lexer": "ipython3",
      "version": "3.8"
    }
  },
  "nbformat_minor": 4,
  "nbformat": 4,
  "cells": [
    {
      "cell_type": "markdown",
      "source": "# My Data Science Notebook",
      "metadata": {}
    },
    {
      "cell_type": "markdown",
      "source": "## Introduction\nThis notebook will explore the fundamental concepts and tools used in data science. We will cover a range of topics, from data cleaning and exploration to machine learning and visualization.",
      "metadata": {
        "tags": [],
        "editable": true,
        "slideshow": {
          "slide_type": ""
        }
      }
    },
    {
      "cell_type": "markdown",
      "source": "## Popular Programming Languages for Data Science\n* **Python:** The most widely used language for data science, offering a rich ecosystem of libraries.\n* **R:** Specifically designed for statistical computing and graphics.\n* **SQL:** Essential for working with relational databases.\n* **Julia:** A high-performance language gaining popularity in the data science community.\n* ",
      "metadata": {}
    },
    {
      "cell_type": "markdown",
      "source": "## Essential Data Science Libraries\n* **Python:**\n  * NumPy: Numerical operations\n  * Pandas: Data manipulation and analysis\n  * Matplotlib: Data visualization\n  * Scikit-learn: Machine learning\n  * TensorFlow/PyTorch: Deep learning\n* **R:**\n  * dplyr: Data manipulation\n  * ggplot2: Data visualization\n  * ",
      "metadata": {}
    },
    {
      "cell_type": "markdown",
      "source": "## Common Data Science Tools\n| Tool | Description |\n|---|---|\n| Jupyter Notebook | Interactive environment for data analysis and visualization |\n| RStudio | Integrated development environment for R |\n| VS Code | Versatile code editor with excellent data science extensions |\n| Tableau | Data visualization and business intelligence platform |\n| Power BI | Another powerful data visualization and business intelligence tool |\n",
      "metadata": {}
    },
    {
      "cell_type": "markdown",
      "source": "## Examples of Arithmetic Expressions\n* **Basic operations:**\n  * `2 + 3`\n  * `5 - 2`\n  * `4 * 6`\n  * `10 / 2`\n* **Exponents:**\n  * `2**3` (equals 2^3)\n* **Modulus:**\n  * `15 % 4` (remainder of 15 divided by 4)\n* **Combining operations:**\n  * `(3 + 4) * 5`\n  ",
      "metadata": {}
    },
    {
      "cell_type": "code",
      "source": "# Multiply and add numbers\nnum1 = 10\nnum2 = 5\nresult = (num1 * num2) + num2\nprint(\"Result:\", result)\n",
      "metadata": {
        "trusted": true
      },
      "outputs": [
        {
          "name": "stdout",
          "text": "Result: 55\n",
          "output_type": "stream"
        }
      ],
      "execution_count": 1
    },
    {
      "cell_type": "code",
      "source": "# Convert minutes to hours\nminutes = 150\nhours = minutes / 60\nprint(minutes, \"minutes is equal to\", hours, \"hours.\")\n",
      "metadata": {
        "trusted": true
      },
      "outputs": [
        {
          "name": "stdout",
          "text": "150 minutes is equal to 2.5 hours.\n",
          "output_type": "stream"
        }
      ],
      "execution_count": 2
    },
    {
      "cell_type": "markdown",
      "source": "## Objectives\n* Learn the basics of Jupyter Notebook\n* Understand markdown syntax for formatting text\n* Practice writing Python code for simple calculations\n* Explore data science concepts through practical examples\n* Share work on GitHub",
      "metadata": {}
    },
    {
      "cell_type": "markdown",
      "source": "## Author\n**Abraham Imani Bahati**",
      "metadata": {}
    }
  ]
}